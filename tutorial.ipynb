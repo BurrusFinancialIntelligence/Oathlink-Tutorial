{
 "cells": [
  {
   "attachments": {},
   "cell_type": "markdown",
   "metadata": {},
   "source": [
    "<div style=\"background: linear-gradient(to right, #56BEB7 0%, #56BEB7 50%, #2B317F 50%, #2B317F 100%);\"><br></div>"
   ]
  },
  {
   "attachments": {},
   "cell_type": "markdown",
   "metadata": {},
   "source": [
    "<img src=\"oathlink_logo.png\" width=\"150\" align=\"right\"/>"
   ]
  },
  {
   "attachments": {},
   "cell_type": "markdown",
   "metadata": {},
   "source": [
    "# Tutorial Oathlink"
   ]
  },
  {
   "attachments": {},
   "cell_type": "markdown",
   "metadata": {},
   "source": [
    "## Flujo de información"
   ]
  },
  {
   "attachments": {},
   "cell_type": "markdown",
   "metadata": {},
   "source": [
    "La ley 19.628 sobre la protección de la vida privada define lineamientos para la implementación del Sistema de Finanzas Abiertas (SFA) intoducido por la ley Fintech.\n",
    "\n",
    "Crucialmente el cliente final (persona natural o juridica) es el dueño de sus datos.\n",
    "\n",
    "Las instituciones financieras (tales como los bancos) son meros custodios de dicha información.\n",
    "\n",
    "En consequencia, el dueño tiene el derecho de solicitarle al custodio la entrega de su informacion personal y potencialmente sensible, por ejemplo los movimientos de su cuenta corriente a un usuario (tipicamente a una Fintech) que le brindaría un servicio basado en est información.\n",
    "\n",
    "Oathlink interviene en la entrega de estos datos personales de parte del custodio al usuario, garantizando minimos de seguidad y velando el cumplimiento con la ley 19.628."
   ]
  },
  {
   "attachments": {},
   "cell_type": "markdown",
   "metadata": {},
   "source": [
    "<center><img src=\"information_flow_chart.png\" width=\"500\" align=\"middle\"/></center>"
   ]
  },
  {
   "attachments": {},
   "cell_type": "markdown",
   "metadata": {},
   "source": [
    "## I. Hello world!"
   ]
  },
  {
   "attachments": {},
   "cell_type": "markdown",
   "metadata": {},
   "source": [
    "### I.A. Archivos entregados por Oathlink"
   ]
  },
  {
   "attachments": {},
   "cell_type": "markdown",
   "metadata": {},
   "source": [
    "El equipo de Oathlink confirma la inscripción de una nueva institución (sea custodio o usuario) con la entrega de los tres archivos siguientes:\n",
    "\n",
    "- *certificate.pem y certificate.key*: Certificados público y privado de autenticación de protocolo Mutual TLS.\n",
    "- *secret.key*: Clave de encriptación privada para el algoritmo Fernet."
   ]
  },
  {
   "attachments": {},
   "cell_type": "markdown",
   "metadata": {},
   "source": [
    "### I.B. Instalación del cliente Oathlink"
   ]
  },
  {
   "attachments": {},
   "cell_type": "markdown",
   "metadata": {},
   "source": [
    "El protocolo Oathlink se utiliza cómodamente mediante una librería en Python que se instala mediante el comando:"
   ]
  },
  {
   "cell_type": "code",
   "execution_count": null,
   "metadata": {},
   "outputs": [],
   "source": [
    "!pip install oathlink"
   ]
  },
  {
   "attachments": {},
   "cell_type": "markdown",
   "metadata": {},
   "source": [
    "Es importante notar que el carácter \"!\" antes del comando es exclusivo para ejecutar comandos desde el ambiente Jupyter, en una consola estándar no es necesario incluirlo."
   ]
  },
  {
   "attachments": {},
   "cell_type": "markdown",
   "metadata": {},
   "source": [
    "### I.C. Comprobación de la conexión"
   ]
  },
  {
   "attachments": {},
   "cell_type": "markdown",
   "metadata": {},
   "source": [
    "Para empezar, se importa el paquete Oathlink:"
   ]
  },
  {
   "cell_type": "code",
   "execution_count": null,
   "metadata": {},
   "outputs": [],
   "source": [
    "import oathlink"
   ]
  },
  {
   "attachments": {},
   "cell_type": "markdown",
   "metadata": {},
   "source": [
    "Luego, se especifican las rutas de los certificados Mutual TLS:"
   ]
  },
  {
   "cell_type": "code",
   "execution_count": null,
   "metadata": {},
   "outputs": [],
   "source": [
    "certificate_filename_pem = '/path/certificate.pem'\n",
    "certificate_filename_key = '/path/certificate.key'"
   ]
  },
  {
   "attachments": {},
   "cell_type": "markdown",
   "metadata": {},
   "source": [
    "Finalmente, se comprueba la conexión:"
   ]
  },
  {
   "cell_type": "code",
   "execution_count": null,
   "metadata": {},
   "outputs": [],
   "source": [
    "hello = oathlink.hello(certificate_filename_pem=certificate_filename_pem, certificate_filename_key=certificate_filename_key)\n",
    "print(hello)"
   ]
  },
  {
   "attachments": {},
   "cell_type": "markdown",
   "metadata": {},
   "source": [
    "Un mensaje de saludo de parte de Oathlink confirma la conexión. De lo contrario, el mensaje indica la naturaleza del error."
   ]
  },
  {
   "attachments": {},
   "cell_type": "markdown",
   "metadata": {},
   "source": [
    "## II. Entrega de la información por el custodio"
   ]
  },
  {
   "attachments": {},
   "cell_type": "markdown",
   "metadata": {},
   "source": [
    "El custodio es típicamente una institución financiera o bancaria que debe entregar cierta información sensible a un usuario con la autorización previa del dueño de la información.\n",
    "\n",
    "El protocolo de Oathlink garantiza que la información sea cargada únicamente por el custodio y descargada solamente por el usuario designado."
   ]
  },
  {
   "attachments": {},
   "cell_type": "markdown",
   "metadata": {},
   "source": [
    "### II.A. Solicitud del link de carga"
   ]
  },
  {
   "attachments": {},
   "cell_type": "markdown",
   "metadata": {},
   "source": [
    "El primer paso es la solicitud de un link seguro para cargar la información.\n",
    "\n",
    "El dueño de la información (owner) y el usuario (user) que recibirá la información se identifican mediante sus RUT (formato 12345678-9):"
   ]
  },
  {
   "cell_type": "code",
   "execution_count": null,
   "metadata": {},
   "outputs": [],
   "source": [
    "owner_id = \"RUT_dueño\"\n",
    "user_id = \"RUT_usuario\""
   ]
  },
  {
   "attachments": {},
   "cell_type": "markdown",
   "metadata": {},
   "source": [
    "En cumplimiento de la ley sobre la Protección de la vida privada, el custodio indica la autorización del dueño de la información, el motivo y el propósito del requerimiento(intent) y el tipo de datos que se transmiten (description):"
   ]
  },
  {
   "cell_type": "code",
   "execution_count": null,
   "metadata": {},
   "outputs": [],
   "source": [
    "owner_authorization = \"autorización_del_dueño\"\n",
    "description = \"tipo_de_datos\"\n",
    "intent = \"motivo_y_proposito\""
   ]
  },
  {
   "attachments": {},
   "cell_type": "markdown",
   "metadata": {},
   "source": [
    "Oathlink registra la iniciación del intercambio de información entre el custodio y el usuario con el comando:"
   ]
  },
  {
   "cell_type": "code",
   "execution_count": null,
   "metadata": {},
   "outputs": [],
   "source": [
    "response_upload = oathlink.upload(certificate_filename_pem=certificate_filename_pem, \n",
    "                                  certificate_filename_key=certificate_filename_key, user_id=user_id, owner_id=owner_id, \n",
    "                                  owner_authorization=owner_authorization, description=description, intent=intent)\n",
    "print(response_upload)\n",
    "\n",
    "import json\n",
    "\n",
    "response_upload = json.loads(response_upload)\n",
    "oath_link = response_upload.get(\"oath_link\")\n",
    "record_id = response_upload.get(\"record_id\")\n",
    "record_id_encrypted = response_upload.get(\"record_id_encrypted\")"
   ]
  },
  {
   "attachments": {},
   "cell_type": "markdown",
   "metadata": {},
   "source": [
    "El custodio entonces recibe:\n",
    "- oath_link: Link de carga seguro que garantiza la trazabilidad del intercambio de información (e.g. \"https://secure.oathlink.com/VnKd7mtedcsrGPGWTdYD-Q\").\n",
    "- record_id: Identificador del intercambio que podrá ser utilizado para realizar el seguimiento del intercambio (e.g. \"fca2bf15-9f4d-4ede-98f6-c9982493cdb3\").\n",
    "- record_id_encrypted: Identificador encriptado con la clave Fernet del usuario (e.g. \"gAAAAABkkLVc5qrtq6O6Su7kyhCq9u-2kwh9NE-SuK9QpzG9yHk-WjzHJnNdgAH2NsGS6cIcGqdwUme7VPl6B9Qp9wLxDWmbP-YJ3-LoPJ-aZTlokUQ7SLrFFip0LvU6dooTc_f0az2H\").\n",
    "\n",
    "El custodio deberá enviar el identificador record_id_encrypted al usuario, quien realizará el procedimiento de descarga detallado en el capítulo siguiente.\n",
    "\n",
    "Este identificador puede enviarse antes de realizar la carga de la información para aprovechar la asincronicidad del protocolo Oathlink."
   ]
  },
  {
   "attachments": {},
   "cell_type": "markdown",
   "metadata": {},
   "source": [
    "### II.B. Carga de la información"
   ]
  },
  {
   "attachments": {},
   "cell_type": "markdown",
   "metadata": {},
   "source": [
    "El segundo paso es la carga de la información al link seguro oath_link mediante el protocolo PUT (HTTP). La carga de la información está habilitada solamente a partir de los IP previamente declarados.\n",
    "\n",
    "La información cargada estará disponible solamente 30 segundos para su descarga por el usuario. Después de este plazo, la información se borrará automáticamente y Oathlink respaldará esta expiración.\n",
    "\n",
    "La variable payload es la ruta del archivo que contiene la información sensible o bien directamente la información como string:"
   ]
  },
  {
   "cell_type": "code",
   "execution_count": null,
   "metadata": {},
   "outputs": [],
   "source": [
    "data = 'path/data.txt'"
   ]
  },
  {
   "attachments": {},
   "cell_type": "markdown",
   "metadata": {},
   "source": [
    "Si bien es posible realizar la carga directamente con un protocolo PUT, la librería proporciona una función de carga:"
   ]
  },
  {
   "cell_type": "code",
   "execution_count": null,
   "metadata": {},
   "outputs": [],
   "source": [
    "upload = oathlink.data_upload(oath_link=oath_link, data=data)\n",
    "print(upload)"
   ]
  },
  {
   "attachments": {},
   "cell_type": "markdown",
   "metadata": {},
   "source": [
    "### II.C. Cancelar el intercambio"
   ]
  },
  {
   "attachments": {},
   "cell_type": "markdown",
   "metadata": {},
   "source": [
    "En caso de emergencia o equivocación, el custodio puede cancelar el envío de información mientras no haya sido accedida por el usuario.\n",
    "\n",
    "El custodio indica el identificador record_id:"
   ]
  },
  {
   "cell_type": "code",
   "execution_count": null,
   "metadata": {},
   "outputs": [],
   "source": [
    "cancel = oathlink.cancel(certificate_filename_pem=certificate_filename_pem, certificate_filename_key=certificate_filename_key, \n",
    "                         record_id=record_id)\n",
    "print(cancel)"
   ]
  },
  {
   "attachments": {},
   "cell_type": "markdown",
   "metadata": {},
   "source": [
    "## III. Recepción de la información por el usuario"
   ]
  },
  {
   "attachments": {},
   "cell_type": "markdown",
   "metadata": {},
   "source": [
    "El usuario es habitualmente un proveedor de servicios tal como una Fintech.\n",
    "\n",
    "El protocolo de Oathlink aplica estándares de ciberseguridad y facilita el cumplimiento con la ley sobre Protección de la vida privada, generando confianza entre el usuario y el custodio de la información."
   ]
  },
  {
   "attachments": {},
   "cell_type": "markdown",
   "metadata": {},
   "source": [
    "### III.A. Desencriptación del identificador"
   ]
  },
  {
   "attachments": {},
   "cell_type": "markdown",
   "metadata": {},
   "source": [
    "El custodio no entrega la información, sino el identificador encriptado del intercambio record_id encrypted.\n",
    "\n",
    "Es posible que el custodio haya enviado el identificador antes de haber concluido la carga de la información en sí, pues el protocolo Oathlink es asincrónico.\n",
    "\n",
    "El primer paso es la desencriptación gracias a la clave Fernet (e.g. \"hBLUHczSeJbDXBIsSgAIs2mYWCsVaYLoSb2yoK95OLE=\") que se encuentra en el archivo \"secret.key\" para obtener el record_id. Esta desencriptación puede alternativamente realizarse con cualquier librería genérica del algoritmo Fernet. El cliente Oathlink contiene tal función de desencriptación:"
   ]
  },
  {
   "cell_type": "code",
   "execution_count": null,
   "metadata": {},
   "outputs": [],
   "source": [
    "secret = 'path/secret.key'\n",
    "record_id_decrypted = oathlink.decrypt(record_id_encrypted=record_id_encrypted, secret=secret)\n",
    "print(record_id_decrypted)"
   ]
  },
  {
   "attachments": {},
   "cell_type": "markdown",
   "metadata": {},
   "source": [
    "Es importante notar que en el argumento \"secret\" se puede especificar tanto la clave como un string o la ruta hacia el archivo \".key\" que contiene la clave."
   ]
  },
  {
   "attachments": {},
   "cell_type": "markdown",
   "metadata": {},
   "source": [
    "### III.B. Solicitud del link de descarga"
   ]
  },
  {
   "attachments": {},
   "cell_type": "markdown",
   "metadata": {},
   "source": [
    "El segundo paso es la solicitud del link de descarga correspondiente al identificador record_id:"
   ]
  },
  {
   "cell_type": "code",
   "execution_count": null,
   "metadata": {},
   "outputs": [],
   "source": [
    "oath_link = oathlink.download(certificate_filename_pem=certificate_filename_pem, \n",
    "                              certificate_filename_key=certificate_filename_key, record_id=record_id)"
   ]
  },
  {
   "attachments": {},
   "cell_type": "markdown",
   "metadata": {},
   "source": [
    "El usuario recibe:\n",
    "- oath_link: Link de descarga segura por protocolo GET (e.g. \"https://secure.oathlink.com/cxoQYHLj0PLhdYoYaOO6Zg\").\n",
    "\n",
    "Oathlink registra el acceso del usuario a la información solicitada. A partir de este punto, el usuario se vuelve responsable del cumplimiento con la ley sobre Protección de la vida privada. En caso de no acceder a la información dentro de un plazo de 30 segundos, esta se borrará automáticamente y ya no será accesible."
   ]
  },
  {
   "attachments": {},
   "cell_type": "markdown",
   "metadata": {},
   "source": [
    "### III.C. Descarga de la información"
   ]
  },
  {
   "attachments": {},
   "cell_type": "markdown",
   "metadata": {},
   "source": [
    "El tercer paso es la descarga de la información desde el link seguro oath_link mediante el protocolo GET (HTTP). La descarga de la información está habilitada solamente a partir de los IP previamente declarados.\n",
    "\n",
    "El usuario puede descargar la información con este link de manera directa. No obstante, el cliente proporciona una función de descarga para facilitar el manejo de la asincronicidad del protocolo Oathlink:"
   ]
  },
  {
   "cell_type": "code",
   "execution_count": null,
   "metadata": {},
   "outputs": [],
   "source": [
    "data = oathlink.data_download(oath_link = oath_link)\n",
    "print(data)"
   ]
  },
  {
   "attachments": {},
   "cell_type": "markdown",
   "metadata": {},
   "source": [
    "La variable data contiene el nombre del archivo con la información solicitada.\n"
   ]
  },
  {
   "attachments": {},
   "cell_type": "markdown",
   "metadata": {},
   "source": [
    "### III.D. Eliminación de la información"
   ]
  },
  {
   "attachments": {},
   "cell_type": "markdown",
   "metadata": {},
   "source": [
    "En cumplimiento de la ley, el usuario deberá eliminar la información de sus sistemas cuando su uso haya caducado.\n",
    "\n",
    "El cuarto paso es la declaración de esta eliminación:"
   ]
  },
  {
   "cell_type": "code",
   "execution_count": null,
   "metadata": {},
   "outputs": [],
   "source": [
    "deletion = oathlink.delete(certificate_filename_pem=certificate_filename_pem, certificate_filename_key=certificate_filename_key, \n",
    "                           record_id=record_id)\n",
    "print(deletion)"
   ]
  },
  {
   "attachments": {},
   "cell_type": "markdown",
   "metadata": {},
   "source": [
    "\n",
    "Oathlink registra esta declaración y concluye el intercambio. El historial del intercambio se archiva y permanece disponible para eventuales auditorías."
   ]
  },
  {
   "attachments": {},
   "cell_type": "markdown",
   "metadata": {},
   "source": [
    "## IV. Trazabilidad y auditoría"
   ]
  },
  {
   "attachments": {},
   "cell_type": "markdown",
   "metadata": {},
   "source": [
    "El protocolo Oathlink les permite a los custodios y usuarios realizar seguimientos y auditar sus intercambios de información y así detectar eventuales irregularidades a las leyes y normas vigentes.\n",
    "Todo intercambio se encuentra en uno de los estados siguientes:\n",
    "\n",
    "- Creado: El intercambio fue iniciado por el custodio pero el usuario aún no accedió a la información.\n",
    "\n",
    "- Accedido: El usuario accedió a la información y se ha vuelto responsable de los cumplimientos legales y normativos.\n",
    "\n",
    "- Destruido: El usuario declaró haber borrado la información de sus sistemas. Este estado es la conclusión normal de un intercambio.\n",
    "\n",
    "- Expirado: El usuario no ha accedido a la información dentro de un plazo de 30 segundos, la información fue borrada del sistema de Oathlink y el intercambio expiró.\n",
    "\n",
    "- Cancelado: El custodio decidió cancelar el intercambio antes que el usuario haya accedido a la información."
   ]
  },
  {
   "attachments": {},
   "cell_type": "markdown",
   "metadata": {},
   "source": [
    "### IV.A. Trazabilidad de un intercambio"
   ]
  },
  {
   "attachments": {},
   "cell_type": "markdown",
   "metadata": {},
   "source": [
    "Tanto el custodio como el usuario puede consultar el historial detallado y el estado de un intercambio mediante el identificador record_id con el comando:"
   ]
  },
  {
   "cell_type": "code",
   "execution_count": null,
   "metadata": {},
   "outputs": [],
   "source": [
    "record = oathlink.record(certificate_filename_pem=certificate_filename_pem, certificate_filename_key=certificate_filename_key, \n",
    "                         record_id=record_id)\n",
    "print(record)"
   ]
  },
  {
   "attachments": {},
   "cell_type": "markdown",
   "metadata": {},
   "source": [
    "Este informe contiene toda la metadata relacionada al intercambio especificado, en particular los datos de las conexiones (IP, fechas, etc.), con el fin de trazar y auditarlo en detalle."
   ]
  },
  {
   "attachments": {},
   "cell_type": "markdown",
   "metadata": {},
   "source": [
    "### IV.B. Intercambios vigentes"
   ]
  },
  {
   "attachments": {},
   "cell_type": "markdown",
   "metadata": {},
   "source": [
    "Oathlink mantiene el listado de los intercambios vigentes, o sea que se encuentran en el estado creado o accedido, con el comando:"
   ]
  },
  {
   "cell_type": "code",
   "execution_count": null,
   "metadata": {},
   "outputs": [],
   "source": [
    "outstanding = oathlink.outstanding(certificate_filename_pem=certificate_filename_pem, \n",
    "                                   certificate_filename_key=certificate_filename_key)\n",
    "print(outstanding)"
   ]
  },
  {
   "attachments": {},
   "cell_type": "markdown",
   "metadata": {},
   "source": [
    "Este listado le permite al custodio realizarles un seguimiento a sus usuarios. Así, el custodio puede exigirles a sus usuarios borrar la información entregada.\n",
    "\n",
    "También, los usuarios pueden verificar a todo instante que están en pleno cumplimiento.\n",
    "\n",
    "Este listado entrega para cada contraparte:\n",
    "\n",
    "- record_id: Identificador del intercambio.\n",
    "\n",
    "- date_time: Fecha y hora UTC de iniciación del intercambio.\n",
    "\n",
    "- status: Estado actual.\n",
    "\n",
    "- custodian_id: Identificador (RUT) del custodio.\n",
    "\n",
    "- user_id: Identificador (RUT) del usuario.\n",
    "\n",
    "- owner_id: Identificador (RUT) del dueño de la información."
   ]
  }
 ],
 "metadata": {
  "language_info": {
   "name": "python"
  },
  "orig_nbformat": 4
 },
 "nbformat": 4,
 "nbformat_minor": 2
}
