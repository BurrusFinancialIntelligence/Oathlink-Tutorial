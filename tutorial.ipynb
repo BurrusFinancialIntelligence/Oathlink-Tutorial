{
 "cells": [
  {
   "attachments": {},
   "cell_type": "markdown",
   "metadata": {},
   "source": [
    "<div style=\"background: linear-gradient(to right, #56BEB7 0%, #56BEB7 50%, #2B317F 50%, #2B317F 100%);\"><br></div>"
   ]
  },
  {
   "attachments": {},
   "cell_type": "markdown",
   "metadata": {},
   "source": [
    "<img src=\"oathlink_logo.png\" width=\"150\" align=\"right\"/>"
   ]
  },
  {
   "attachments": {},
   "cell_type": "markdown",
   "metadata": {},
   "source": [
    "# Tutorial Oathlink"
   ]
  },
  {
   "attachments": {},
   "cell_type": "markdown",
   "metadata": {},
   "source": [
    "## Flujo de información"
   ]
  },
  {
   "attachments": {},
   "cell_type": "markdown",
   "metadata": {},
   "source": [
    "La ley 19.628 sobre la protección de la vida privada define lineamientos para la implementación del Sistema de Finanzas Abiertas (SFA) intoducido por la ley Fintech.\n",
    "\n",
    "Crucialmente el cliente final (persona natural o juridica) es el dueño de sus datos.\n",
    "\n",
    "Las instituciones financieras (tales como los bancos) son meros custodios de dicha información.\n",
    "\n",
    "En consequencia, el dueño tiene el derecho de solicitarle al custodio la entrega de su informacion personal y potencialmente sensible, por ejemplo los movimientos de su cuenta corriente a un usuario (tipicamente a una Fintech) que le brindaría un servicio basado en est información.\n",
    "\n",
    "Oathlink interviene en la entrega de estos datos personales de parte del custodio al usuario, garantizando minimos de seguidad y velando el cumplimiento con la ley 19.628."
   ]
  },
  {
   "attachments": {},
   "cell_type": "markdown",
   "metadata": {},
   "source": [
    "## I. Hello world!"
   ]
  },
  {
   "attachments": {},
   "cell_type": "markdown",
   "metadata": {},
   "source": [
    "### I.A. Archivos entregados por Oathlink"
   ]
  },
  {
   "attachments": {},
   "cell_type": "markdown",
   "metadata": {},
   "source": [
    "El equipo de Oathlink confirma la inscripción de una nueva institucion (custodio o usuario) con la entrega de:\n",
    "\n",
    "- *oathSecret.key*: Archvio que contiene una clave de encriptación.\n",
    "- *oathlink.pem y oathlink.key*: Archivos de autentificación y certificación de Oathlink que la nueva institución deberá utilizar para generar su certificado de autentificación Mutual TLS con OpenSSL."
   ]
  },
  {
   "attachments": {},
   "cell_type": "markdown",
   "metadata": {},
   "source": [
    "### I.B. Generación del certificado Mutual TLS"
   ]
  },
  {
   "attachments": {},
   "cell_type": "markdown",
   "metadata": {},
   "source": [
    "#### 1) Crear la clave privada del certificado:\n",
    "\n",
    "    openssl genrsa -out oathCertificate.key 2049\n",
    "\n",
    "Este comando generara un archivo oathCertificate.key que no deberá ser divulgado.\n",
    "\n",
    "#### 2) Generar la soliciud de firma de certificado (CSR):\n",
    "\n",
    "La solicitud de firma de certificadi (Certificate Signing Request en inglés) almacena los datos de la nueva institución.\n",
    "\n",
    "    openssl req -new -key private.key -cert contact.csr\n",
    "\n",
    "Este comando genera la solicitud de firma contact.csr usando la clave privada anteriormente creada.\n",
    "\n",
    "Es crucial completar estos datos, en particular el campo \"Common Name\" con el RUT bajo el formato 12345678-9.\n",
    "\n",
    "La constraseña debe permanecer vacia.\n",
    "\n",
    "#### 3) Firmar el certificado:\n",
    "\n",
    "    openssl x509 -req -in contact.csr -CA oathlink.pem -CAkey oathlink.key -set_serial 01 -out oathCertificate.pem -days 3650 -sha_256\n",
    "\n",
    "Este comando genera el certificado oathCertificate.pem que será utilizado para la conexión segura. Este certificado sera firmado con los datos contact.csr y las claves CA de Oathlink."
   ]
  },
  {
   "attachments": {},
   "cell_type": "markdown",
   "metadata": {},
   "source": [
    "### I.C. Comprobación de la conexión"
   ]
  },
  {
   "attachments": {},
   "cell_type": "markdown",
   "metadata": {},
   "source": [
    "Para poder comprobar la conexion se debera instalar el cliente de Python de Oathlink. Para esto usaremos el siguiente comando:"
   ]
  },
  {
   "cell_type": "code",
   "execution_count": null,
   "metadata": {},
   "outputs": [],
   "source": [
    "!pip install oathlink"
   ]
  },
  {
   "attachments": {},
   "cell_type": "markdown",
   "metadata": {},
   "source": [
    "Es importante notar que el carácter \"!\" antes del comando es exclusivo para ejecutar comandos desde el ambiente Jupyter, en una consola estándar no es necesario incluirlo."
   ]
  },
  {
   "attachments": {},
   "cell_type": "markdown",
   "metadata": {},
   "source": [
    "Para poder comprobar la conexion se debe importar el paquete una vez instalado:"
   ]
  },
  {
   "cell_type": "code",
   "execution_count": null,
   "metadata": {},
   "outputs": [],
   "source": [
    "import oathlink"
   ]
  },
  {
   "attachments": {},
   "cell_type": "markdown",
   "metadata": {},
   "source": [
    "Una vez importada la libreria, se debe especificar las rutas de los archivos de certificado y key:"
   ]
  },
  {
   "cell_type": "code",
   "execution_count": null,
   "metadata": {},
   "outputs": [],
   "source": [
    "certificateFilename = 'oathCertificate.pem'\n",
    "keyFilename = 'oathCertificate.key'"
   ]
  },
  {
   "attachments": {},
   "cell_type": "markdown",
   "metadata": {},
   "source": [
    "Luego debemos usar la funcion de prueba de la libreria, llamada \"helloOathlink\", como se muestra en el siguiente cuadro:"
   ]
  },
  {
   "cell_type": "code",
   "execution_count": null,
   "metadata": {},
   "outputs": [],
   "source": [
    "response = oathlink.helloOathlink(certificateFilename=certificateFilename, keyFilename=keyFilename)\n",
    "print(response)"
   ]
  },
  {
   "attachments": {},
   "cell_type": "markdown",
   "metadata": {},
   "source": [
    "Si todo esta en orden, obtendremos el mesaje de saludo de parte de Oathlink, de lo contrario recibiremos un error que nos informara que puede faltar para obtener acceso."
   ]
  },
  {
   "attachments": {},
   "cell_type": "markdown",
   "metadata": {},
   "source": [
    "## II. Entrega de la información por el custodio"
   ]
  },
  {
   "attachments": {},
   "cell_type": "markdown",
   "metadata": {},
   "source": [
    "### II.A. Solicitar el URL de carga"
   ]
  },
  {
   "attachments": {},
   "cell_type": "markdown",
   "metadata": {},
   "source": [
    "El protocolo de Oathlink garantiza que la información sea cargada unicamente por el custodio y descargada solamente por el usuario designado.\n",
    "\n",
    "El primer paso es la solicitud del URL de carga, para esto usaremos la funcion del cliente Python llamada \"upload\", como se muestra a continuación:"
   ]
  },
  {
   "cell_type": "code",
   "execution_count": null,
   "metadata": {},
   "outputs": [],
   "source": [
    "import json\n",
    "\n",
    "ownerId = \"23109650-7\"\n",
    "userId = \"76136279-8\"\n",
    "ownerAuthorization = \"\"\n",
    "description = \"First test.\"\n",
    "intent = \"Testing.\"\n",
    "uploadResponse = oathlink.upload(certificateFilename=certificateFilename, keyFilename=keyFilename, userId=userId,\n",
    "                           ownerId=ownerId, ownerAuthorization=ownerAuthorization, description=description,\n",
    "                           intent=intent)\n",
    "print(uploadResponse)\n",
    "\n",
    "# Extract information from response\n",
    "\n",
    "uploadResponse = json.loads(uploadResponse)\n",
    "url = uploadResponse.get(\"oath_link\")\n",
    "oathIdEncrypted = uploadResponse.get(\"oath_id\")"
   ]
  },
  {
   "attachments": {},
   "cell_type": "markdown",
   "metadata": {},
   "source": [
    "Asi el custodio recibe tambien el identificador \"oathId\" encryptado que se debe enviar al usuario. El usuario luego desencriptará el oathId y procederá a la descarga. La carga y descarga pueden ser asincronicas.\n",
    "\n",
    "Oathlink registra la iniciación del intercambio de información entre el custodio y el usuario."
   ]
  },
  {
   "attachments": {},
   "cell_type": "markdown",
   "metadata": {},
   "source": [
    "### II.B. Carga de la información"
   ]
  },
  {
   "attachments": {},
   "cell_type": "markdown",
   "metadata": {},
   "source": [
    "La informacion se carga al url mediante el protocolo PUT (HTTP). La carga esta habilitada solamente para los IP previamente declarados:"
   ]
  },
  {
   "cell_type": "code",
   "execution_count": null,
   "metadata": {},
   "outputs": [],
   "source": [
    "file_path = 'test.txt'\n",
    "response = oathlink.data_upload(url, file_path)\n",
    "print(response)"
   ]
  },
  {
   "attachments": {},
   "cell_type": "markdown",
   "metadata": {},
   "source": [
    "### II.C. Cancelar el intercambio"
   ]
  },
  {
   "attachments": {},
   "cell_type": "markdown",
   "metadata": {},
   "source": [
    "En caso de emergencia, el custodio puede cancelar la entrega de informacion, para esto debera usar el valor \"oathSecret\" que se entregara al crear sus credenciales:"
   ]
  },
  {
   "cell_type": "code",
   "execution_count": null,
   "metadata": {},
   "outputs": [],
   "source": [
    "response = oathlink.cancel(certificateFilename=certificateFilename, keyFilename=keyFilename, recordId=recordId)\n",
    "print(response)"
   ]
  },
  {
   "attachments": {},
   "cell_type": "markdown",
   "metadata": {},
   "source": [
    "Esta cancelación es imposible despues del acceso por el usuario."
   ]
  },
  {
   "attachments": {},
   "cell_type": "markdown",
   "metadata": {},
   "source": [
    "## III. Recepción de la información por el usuario"
   ]
  },
  {
   "attachments": {},
   "cell_type": "markdown",
   "metadata": {},
   "source": [
    "### III.A. Desencriptar el identificador"
   ]
  },
  {
   "attachments": {},
   "cell_type": "markdown",
   "metadata": {},
   "source": [
    "El custodio no entrega la información solicitada de manera directa, sino un identificador iathId encriptado por Oathlink con la clave oathlinkSecret.key del usuario.\n",
    "\n",
    "El primer paso es la desencriptación de este identificador mediante el algoritmo Fernet con el fin de entender el oathId de la información solicitada:"
   ]
  },
  {
   "cell_type": "code",
   "execution_count": null,
   "metadata": {},
   "outputs": [],
   "source": [
    "oathSecret = 'S4KQqEzBRGyZqsdm3qMmCTB9AnHsrWazzm574jLH8HA='\n",
    "oathId = oathlink.decrypt(oathIdEncrypted=oathIdEncrypted, oathSecret=oathSecret)\n",
    "print(oathId)"
   ]
  },
  {
   "cell_type": "markdown",
   "metadata": {},
   "source": []
  },
  {
   "cell_type": "code",
   "execution_count": null,
   "metadata": {},
   "outputs": [],
   "source": []
  }
 ],
 "metadata": {
  "language_info": {
   "name": "python"
  },
  "orig_nbformat": 4
 },
 "nbformat": 4,
 "nbformat_minor": 2
}
